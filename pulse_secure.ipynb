{
 "cells": [
  {
   "cell_type": "code",
   "execution_count": null,
   "id": "6ccb67d9",
   "metadata": {},
   "outputs": [],
   "source": [
    "from pyspark.sql import SparkSession\n",
    "from src.data_loader import load_shodan_data\n",
    "from src.analysis import process_shodan_data\n",
    "from src.enrichment import get_top3_domains\n",
    "from src.hunter_api import create_domain_index, fetch_and_store_hunter_data\n",
    "from src.report_generator import generate_top_report\n",
    "\n",
    "spark = SparkSession.builder.appName(\"ShodanPulseSecure\").getOrCreate()\n",
    "\n",
    "df = load_shodan_data(\"data/ivanti_data.json\")\n",
    "processed_df = process_shodan_data(df)\n",
    "top3_domains = get_top3_domains(processed_df)\n",
    "\n",
    "create_domain_index()\n",
    "fetch_and_store_hunter_data(top3_domains, enrich=True, force=False)\n",
    "\n",
    "report = generate_top_report(processed_df, top_n=3, save_to_csv=True)\n",
    "display(report)\n"
   ]
  }
 ],
 "metadata": {
  "language_info": {
   "name": "python"
  }
 },
 "nbformat": 4,
 "nbformat_minor": 5
}
